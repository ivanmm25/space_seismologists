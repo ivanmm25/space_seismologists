{
 "cells": [
  {
   "cell_type": "code",
   "execution_count": 9,
   "metadata": {},
   "outputs": [],
   "source": [
    "import pandas as pd\n",
    "import os, sys\n",
    "import subprocess\n",
    "import seaborn as sns\n",
    "import matplotlib.pyplot as plt \n",
    "import matplotlib\n",
    "from matplotlib import rc\n",
    "import numpy as np"
   ]
  },
  {
   "cell_type": "code",
   "execution_count": 10,
   "metadata": {},
   "outputs": [],
   "source": [
    "# Inputfolder & files\n",
    "inputfolder = f\"../Data\""
   ]
  },
  {
   "cell_type": "markdown",
   "metadata": {},
   "source": [
    "# Clean version of load data"
   ]
  },
  {
   "cell_type": "markdown",
   "metadata": {},
   "source": [
    "## Nakamura dataset"
   ]
  },
  {
   "cell_type": "code",
   "execution_count": 11,
   "metadata": {},
   "outputs": [],
   "source": [
    "sismic_events = [\"_dm_\", \"_sm_\", \"_ai_\", \"_m_\"]"
   ]
  },
  {
   "cell_type": "code",
   "execution_count": 12,
   "metadata": {},
   "outputs": [
    {
     "data": {
      "text/plain": [
       "{'dm': ['nakamura_2005_dm_locations.csv', 'nakamura_2005_dm_arrivals.csv'],\n",
       " 'sm': ['nakamura_1983_sm_arrivals.csv', 'nakamura_1979_sm_locations.csv'],\n",
       " 'ai': ['nakamura_1983_ai_locations.csv', 'nakamura_1983_ai_arrivals.csv'],\n",
       " 'm': ['nakamura_1983_m_arrivals.csv']}"
      ]
     },
     "execution_count": 12,
     "metadata": {},
     "output_type": "execute_result"
    }
   ],
   "source": [
    "nakamura_files = os.listdir(f\"../Data\")\n",
    "nakamura_files = [file for file in nakamura_files if \"nakamura\" in file]\n",
    "nakamura_files_per_event = {}\n",
    "\n",
    "for event in sismic_events: nakamura_files_per_event[event[1:-1]] = [file for file in nakamura_files if event in file]\n",
    "nakamura_files_per_event"
   ]
  },
  {
   "cell_type": "code",
   "execution_count": 13,
   "metadata": {},
   "outputs": [
    {
     "name": "stdout",
     "output_type": "stream",
     "text": [
      "dm\n",
      "sm\n",
      "ai\n",
      "m\n"
     ]
    }
   ],
   "source": [
    "possible_type_indexes = [\"A\", \"AI\"]\n",
    "for event in nakamura_files_per_event.keys():\n",
    "\tprint(event)\n",
    "\tarrivals_file = [file for file in nakamura_files_per_event[event] if \"arrivals\" in file]\n",
    "\tif len(arrivals_file) != 0: arrivals = pd.read_csv(f\"{inputfolder}/{arrivals_file[0]}\", index_col=0)\n",
    "\telse: continue\n",
    " \n",
    "\tlocations_file = [file for file in nakamura_files_per_event[event] if \"locations\" in file]\n",
    "\tif len(locations_file) != 0: locations = pd.read_csv(f\"{inputfolder}/{locations_file[0]}\", index_col=0)\n",
    "\telse: continue\n",
    "\tlocations[\"Type\"] = event\n",
    " \n",
    "\tif (not arrivals.index.name == \"A\") and (not arrivals.index.name == \"AI\"):\n",
    "\t\tlocations = locations.reset_index()\n",
    "\t\tarrivals = arrivals.reset_index()\n",
    "\t\tlocations_arrivals = locations.merge(arrivals, on=[\"Year\", \"Day\"], how=\"outer\")\n",
    "\t\tlocations_arrivals.to_csv(f\"{inputfolder}/nakamura_locations_arrivals_{event}.csv\", index=False)\n",
    "\t\tlocations_arrivals\n",
    "  \n",
    "\tfor index in possible_type_indexes:\n",
    "\t\tif index == arrivals.index.name: \n",
    "\t\t\tlocations_arrivals = locations.merge(arrivals, on=index, how=\"outer\")\n",
    "\t\t\tlocations_arrivals.to_csv(f\"{inputfolder}/nakamura_locations_arrivals_{event}.csv\", index=False)\t"
   ]
  },
  {
   "cell_type": "markdown",
   "metadata": {},
   "source": [
    "# Heatmap based on moonquake depth - Lognonné et al. (2003)"
   ]
  },
  {
   "cell_type": "code",
   "execution_count": 14,
   "metadata": {},
   "outputs": [],
   "source": [
    "def rgb(minimum, maximum, value):\n",
    "    minimum, maximum = float(minimum), float(maximum)\n",
    "    ratio = 2 * (value-minimum) / (maximum - minimum)\n",
    "    b = int(max(0, 255*(1 - ratio)))\n",
    "    r = int(max(0, 255*(ratio - 1)))\n",
    "    g = 255 - b - r\n",
    "    return r, g, b"
   ]
  },
  {
   "cell_type": "code",
   "execution_count": 15,
   "metadata": {},
   "outputs": [
    {
     "data": {
      "text/plain": [
       "(0, 5, 250)"
      ]
     },
     "execution_count": 15,
     "metadata": {},
     "output_type": "execute_result"
    }
   ],
   "source": [
    "rgbvalue = rgb(0, 1200, 10)\n",
    "rgbvalue"
   ]
  },
  {
   "cell_type": "markdown",
   "metadata": {},
   "source": [
    "## Process dataframe"
   ]
  },
  {
   "cell_type": "code",
   "execution_count": 16,
   "metadata": {},
   "outputs": [],
   "source": [
    "lognonne_df = pd.read_csv(f\"{inputfolder}/lognonne_2003_catalog.csv\")\n",
    "new_columns = [\"Year\", \"Month\", \"Day\", \"Hour\", \"Minute\", \"R\", \"G\", \"B\"]\n",
    "\n",
    "# New columns for Date & RGB\n",
    "for column in new_columns: lognonne_df[column]=0\n",
    "\n",
    "# RGB scale based on moonquake depth\n",
    "min_depth = lognonne_df[\"Depth\"].min()\n",
    "max_depth = lognonne_df[\"Depth\"].max()\n",
    "\n",
    "# Process Date column & RGB column\n",
    "for row in lognonne_df.itertuples():\n",
    "\tindex = row[0]\n",
    "\tdepth = lognonne_df.loc[index, \"Depth\"]\n",
    " \n",
    "\t# Date column into Year, Month, etc.\n",
    "\tlognonne_df.loc[index, \"Year\"] = str(19)+str(lognonne_df.loc[index, \"Date\"])[0:2]\n",
    "\tlognonne_df.loc[index, \"Month\"] = str(lognonne_df.loc[index, \"Date\"])[2:4]\n",
    "\tlognonne_df.loc[index, \"Day\"] = str(lognonne_df.loc[index, \"Date\"])[4:6]\n",
    "\tlognonne_df.loc[index, \"Hour\"] = str(lognonne_df.loc[index, \"Date\"])[6:8]\n",
    "\tlognonne_df.loc[index, \"Minute\"] = str(lognonne_df.loc[index, \"Date\"])[8:]\n",
    "\n",
    "\t# RGB colour scale\n",
    "\tlognonne_df.loc[index, \"R\"], lognonne_df.loc[index, \"G\"], lognonne_df.loc[index, \"B\"] = rgb(min_depth, max_depth, depth)\n",
    "\n",
    "lognonne_df=lognonne_df.drop([\"Date\"], axis=1)  # unneeded column\n",
    "\n",
    "# transfoorm Lat, Long to radians\n",
    "lognonne_df[\"Latrad\"] = lognonne_df[\"Lat\"]*(np.pi/180)\n",
    "lognonne_df[\"Longrad\"] = lognonne_df[\"Long\"]*(np.pi/180)\n",
    "\n",
    "# compute new coordinates over spherical Moon representation\n",
    "sphere_radius = 10\n",
    "lognonne_df[\"zpos\"]= sphere_radius * np.cos(lognonne_df[\"Latrad\"]) * np.cos(lognonne_df[\"Longrad\"])\n",
    "lognonne_df[\"ypos\"]= sphere_radius * np.sin(lognonne_df[\"Latrad\"])\n",
    "lognonne_df[\"xps\"]= -sphere_radius * np.cos(lognonne_df[\"Latrad\"]) * np.sin(lognonne_df[\"Longrad\"])"
   ]
  },
  {
   "cell_type": "markdown",
   "metadata": {},
   "source": [
    "## 2D heatmap"
   ]
  },
  {
   "cell_type": "code",
   "execution_count": 17,
   "metadata": {},
   "outputs": [
    {
     "data": {
      "text/plain": [
       "<matplotlib.colorbar.Colorbar at 0x7fb764b8db50>"
      ]
     },
     "execution_count": 17,
     "metadata": {},
     "output_type": "execute_result"
    },
    {
     "data": {
      "image/png": "[encoded data removed]",
      "text/plain": [
       "<Figure size 768x384 with 2 Axes>"
      ]
     },
     "metadata": {
      "needs_background": "light"
     },
     "output_type": "display_data"
    }
   ],
   "source": [
    "mydpi=96\n",
    "transparent=False\n",
    "cm = plt.cm.get_cmap('RdYlBu')\n",
    "fit_scatter = plt.figure(num=0, clear=True, figsize=(1024/mydpi, 512/mydpi))\n",
    "sc = plt.scatter(lognonne_df.Lat, lognonne_df.Long, s=10, c=lognonne_df.Depth, cmap=cm)\n",
    "plt.xticks(ticks=[], labels=[])\n",
    "plt.yticks(ticks=[], labels=[])\n",
    "plt.axis('off')  # command for hiding the axis\n",
    "fit_scatter.savefig(\"../images/moon_heatmap.png\", transparent=transparent, dpi=mydpi)\n",
    "plt.colorbar(sc)\n",
    "# plt.close(fit_scatter)"
   ]
  },
  {
   "cell_type": "markdown",
   "metadata": {},
   "source": [
    "## Save dataframe"
   ]
  },
  {
   "cell_type": "code",
   "execution_count": 18,
   "metadata": {},
   "outputs": [],
   "source": [
    "recompute = True\n",
    "if not os.path.exists(f\"{inputfolder}/lognonne_2003_catalog_adapted.csv\") or recompute:\n",
    "    lognonne_df.to_csv(f\"{inputfolder}/lognonne_2003_catalog_adapted.csv\", index=False)"
   ]
  }
 ],
 "metadata": {
  "kernelspec": {
   "display_name": "Python 3.8.10 64-bit",
   "language": "python",
   "name": "python3"
  },
  "language_info": {
   "codemirror_mode": {
    "name": "ipython",
    "version": 3
   },
   "file_extension": ".py",
   "mimetype": "text/x-python",
   "name": "python",
   "nbconvert_exporter": "python",
   "pygments_lexer": "ipython3",
   "version": "3.8.10"
  },
  "orig_nbformat": 4,
  "vscode": {
   "interpreter": {
    "hash": "916dbcbb3f70747c44a77c7bcd40155683ae19c65e1c03b4aa3499c5328201f1"
   }
  }
 },
 "nbformat": 4,
 "nbformat_minor": 2
}
